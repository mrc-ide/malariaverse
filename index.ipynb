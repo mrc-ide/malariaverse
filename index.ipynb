{
  "cells": [
    {
      "cell_type": "raw",
      "metadata": {},
      "source": [
        "---\n",
        "title: \"malariaverse\"\n",
        "---"
      ],
      "id": "53e1f32c"
    },
    {
      "cell_type": "markdown",
      "metadata": {},
      "source": [
        "```{css echo=FALSE}\n",
        ".column {\n",
        "text-align: right;\n",
        "}\n",
        "```\n",
        "\n",
        "\n",
        "This is a Quarto website.\n",
        "\n",
        "To learn more about Quarto websites visit <https://quarto.org/docs/websites>.\n",
        "\n",
        "<img src=\"https://mrc-ide.github.io/umbrella/reference/figures/hex.png\" align=\"right\" width=\"30%\" height=\"30%\"/>\n",
        "\n",
        "\\\n",
        "\\\n",
        "\\\n",
        "Umbrella - fitting seasonal parameters from rainfall data\n",
        "\n",
        "[![R build status](https://github.com/mrc-ide/umbrella/workflows/R-CMD-check/badge.svg)](https://github.com/mrc-ide/umbrella/actions) [![Project Status: WIP -- Initial development is in progress, but there has not yet been a stable, usable release suitable for the public.](https://www.repostatus.org/badges/latest/wip.svg)](https://www.repostatus.org/#wip)\n",
        "\n",
        "\\\n",
        "\\\n",
        "\\\n",
        "\n",
        "\\\n",
        "\\\n",
        "\\\n",
        "\n",
        "\\\n",
        "\\\n",
        "\\\n",
        "\n",
        "::: grid\n",
        "::: g-col-4\n",
        "<img src=\"https://mrc-ide.github.io/netz/reference/figures/hex.png\" align=\"left\" width=\"25%\" height=\"25%\"/>\n",
        ":::\n",
        "\n",
        "::: g-col-8\n",
        "Netz - Managing net metrics and distributions\n",
        "\n",
        "[![R build status](https://github.com/mrc-ide/netz/workflows/R-CMD-check/badge.svg)](https://github.com/mrc-ide/netz/actions) [![Project Status: WIP -- Initial development is in progress, but there has not yet been a stable, usable release suitable for the public.](https://www.repostatus.org/badges/latest/wip.svg)](https://www.repostatus.org/#wip)\n",
        ":::\n",
        ":::"
      ],
      "id": "5d1308fc"
    }
  ],
  "metadata": {
    "kernelspec": {
      "display_name": "Python 3",
      "language": "python",
      "name": "python3"
    }
  },
  "nbformat": 4,
  "nbformat_minor": 5
}